{
  "nbformat": 4,
  "nbformat_minor": 0,
  "metadata": {
    "colab": {
      "provenance": []
    },
    "kernelspec": {
      "name": "python3",
      "display_name": "Python 3"
    },
    "language_info": {
      "name": "python"
    }
  },
  "cells": [
    {
      "cell_type": "markdown",
      "source": [
        "# Mörder-Quest"
      ],
      "metadata": {
        "id": "8Ymi2hWYccOX"
      }
    },
    {
      "cell_type": "markdown",
      "source": [
        "## Libraries"
      ],
      "metadata": {
        "id": "nLqGetMGcpIn"
      }
    },
    {
      "cell_type": "code",
      "execution_count": null,
      "metadata": {
        "id": "xc3hkrtkbpUj"
      },
      "outputs": [],
      "source": [
        "import pandas as pd\n",
        "import numpy as np\n",
        "import plotly.express as px\n",
        "import string\n",
        "from cryptography.fernet import Fernet"
      ]
    },
    {
      "cell_type": "code",
      "source": [
        "def check_name(name: str) -> bool:\n",
        "    cipher_suite = Fernet(b'V14xegqEQQVLwYiSCiTm8NqnqDL0AfdU0A0W7MQouho=')\n",
        "    enc = b'gAAAAABmZL5fqeBMS-w0sqq2HCwYB-4etAyhjsbO22hmyzhYYwkQuLE2MtJO-dB0XTx5GvQZR-cnL4t5ayxyo2hYlCQY-MB58g=='\n",
        "    if cipher_suite.decrypt(enc).decode() == name:\n",
        "      return True\n",
        "    return False"
      ],
      "metadata": {
        "id": "vpB5zzIqifw0"
      },
      "execution_count": null,
      "outputs": []
    },
    {
      "cell_type": "markdown",
      "source": [
        "## Kreuzfahrtschiff Häfen"
      ],
      "metadata": {
        "id": "8R-K_-uJ1eBP"
      }
    },
    {
      "cell_type": "code",
      "source": [
        "haefen = [\n",
        "    \"Genua (ITA)\",\n",
        "    \"Rom (ITA)\",\n",
        "    \"Palermo (ITA)\",\n",
        "    \"Palma de Mallorca (ESP)\",\n",
        "    \"Barcelona (ESP)\",\n",
        "    \"Marseille (FRA)\",\n",
        "    \"Genua (ITA)\"\n",
        "]"
      ],
      "metadata": {
        "id": "D14QONEYEYpA"
      },
      "execution_count": null,
      "outputs": []
    },
    {
      "cell_type": "code",
      "source": [
        "\" -> \".join(haefen)"
      ],
      "metadata": {
        "colab": {
          "base_uri": "https://localhost:8080/",
          "height": 74
        },
        "id": "O-72Dl_8EapI",
        "outputId": "321bb310-dceb-4c87-ae5a-a06db45d1b0f"
      },
      "execution_count": null,
      "outputs": [
        {
          "output_type": "execute_result",
          "data": {
            "text/plain": [
              "'Genua (ITA) -> Rom (ITA) -> Palermo (ITA) -> Palma de Mallorca (ESP) -> Barcelona (ESP) -> Marseille (FRA) -> Genua (ITA)'"
            ],
            "application/vnd.google.colaboratory.intrinsic+json": {
              "type": "string"
            }
          },
          "metadata": {},
          "execution_count": 3
        }
      ]
    },
    {
      "cell_type": "code",
      "source": [
        "passagier_df = pd.read_csv(\"passagier_df.csv\")"
      ],
      "metadata": {
        "id": "hov9RSk0A78v",
        "colab": {
          "base_uri": "https://localhost:8080/",
          "height": 313
        },
        "outputId": "52ad823f-0f0d-4a2d-d9fc-1ad71dab5c4b"
      },
      "execution_count": null,
      "outputs": [
        {
          "output_type": "error",
          "ename": "FileNotFoundError",
          "evalue": "[Errno 2] No such file or directory: 'passagier_df.csv'",
          "traceback": [
            "\u001b[0;31m---------------------------------------------------------------------------\u001b[0m",
            "\u001b[0;31mFileNotFoundError\u001b[0m                         Traceback (most recent call last)",
            "\u001b[0;32m<ipython-input-6-c3498de004bc>\u001b[0m in \u001b[0;36m<cell line: 1>\u001b[0;34m()\u001b[0m\n\u001b[0;32m----> 1\u001b[0;31m \u001b[0mpassagier_df\u001b[0m \u001b[0;34m=\u001b[0m \u001b[0mpd\u001b[0m\u001b[0;34m.\u001b[0m\u001b[0mread_csv\u001b[0m\u001b[0;34m(\u001b[0m\u001b[0;34m\"passagier_df.csv\"\u001b[0m\u001b[0;34m)\u001b[0m\u001b[0;34m\u001b[0m\u001b[0;34m\u001b[0m\u001b[0m\n\u001b[0m",
            "\u001b[0;32m/usr/local/lib/python3.10/dist-packages/pandas/io/parsers/readers.py\u001b[0m in \u001b[0;36mread_csv\u001b[0;34m(filepath_or_buffer, sep, delimiter, header, names, index_col, usecols, dtype, engine, converters, true_values, false_values, skipinitialspace, skiprows, skipfooter, nrows, na_values, keep_default_na, na_filter, verbose, skip_blank_lines, parse_dates, infer_datetime_format, keep_date_col, date_parser, date_format, dayfirst, cache_dates, iterator, chunksize, compression, thousands, decimal, lineterminator, quotechar, quoting, doublequote, escapechar, comment, encoding, encoding_errors, dialect, on_bad_lines, delim_whitespace, low_memory, memory_map, float_precision, storage_options, dtype_backend)\u001b[0m\n\u001b[1;32m    910\u001b[0m     \u001b[0mkwds\u001b[0m\u001b[0;34m.\u001b[0m\u001b[0mupdate\u001b[0m\u001b[0;34m(\u001b[0m\u001b[0mkwds_defaults\u001b[0m\u001b[0;34m)\u001b[0m\u001b[0;34m\u001b[0m\u001b[0;34m\u001b[0m\u001b[0m\n\u001b[1;32m    911\u001b[0m \u001b[0;34m\u001b[0m\u001b[0m\n\u001b[0;32m--> 912\u001b[0;31m     \u001b[0;32mreturn\u001b[0m \u001b[0m_read\u001b[0m\u001b[0;34m(\u001b[0m\u001b[0mfilepath_or_buffer\u001b[0m\u001b[0;34m,\u001b[0m \u001b[0mkwds\u001b[0m\u001b[0;34m)\u001b[0m\u001b[0;34m\u001b[0m\u001b[0;34m\u001b[0m\u001b[0m\n\u001b[0m\u001b[1;32m    913\u001b[0m \u001b[0;34m\u001b[0m\u001b[0m\n\u001b[1;32m    914\u001b[0m \u001b[0;34m\u001b[0m\u001b[0m\n",
            "\u001b[0;32m/usr/local/lib/python3.10/dist-packages/pandas/io/parsers/readers.py\u001b[0m in \u001b[0;36m_read\u001b[0;34m(filepath_or_buffer, kwds)\u001b[0m\n\u001b[1;32m    575\u001b[0m \u001b[0;34m\u001b[0m\u001b[0m\n\u001b[1;32m    576\u001b[0m     \u001b[0;31m# Create the parser.\u001b[0m\u001b[0;34m\u001b[0m\u001b[0;34m\u001b[0m\u001b[0m\n\u001b[0;32m--> 577\u001b[0;31m     \u001b[0mparser\u001b[0m \u001b[0;34m=\u001b[0m \u001b[0mTextFileReader\u001b[0m\u001b[0;34m(\u001b[0m\u001b[0mfilepath_or_buffer\u001b[0m\u001b[0;34m,\u001b[0m \u001b[0;34m**\u001b[0m\u001b[0mkwds\u001b[0m\u001b[0;34m)\u001b[0m\u001b[0;34m\u001b[0m\u001b[0;34m\u001b[0m\u001b[0m\n\u001b[0m\u001b[1;32m    578\u001b[0m \u001b[0;34m\u001b[0m\u001b[0m\n\u001b[1;32m    579\u001b[0m     \u001b[0;32mif\u001b[0m \u001b[0mchunksize\u001b[0m \u001b[0;32mor\u001b[0m \u001b[0miterator\u001b[0m\u001b[0;34m:\u001b[0m\u001b[0;34m\u001b[0m\u001b[0;34m\u001b[0m\u001b[0m\n",
            "\u001b[0;32m/usr/local/lib/python3.10/dist-packages/pandas/io/parsers/readers.py\u001b[0m in \u001b[0;36m__init__\u001b[0;34m(self, f, engine, **kwds)\u001b[0m\n\u001b[1;32m   1405\u001b[0m \u001b[0;34m\u001b[0m\u001b[0m\n\u001b[1;32m   1406\u001b[0m         \u001b[0mself\u001b[0m\u001b[0;34m.\u001b[0m\u001b[0mhandles\u001b[0m\u001b[0;34m:\u001b[0m \u001b[0mIOHandles\u001b[0m \u001b[0;34m|\u001b[0m \u001b[0;32mNone\u001b[0m \u001b[0;34m=\u001b[0m \u001b[0;32mNone\u001b[0m\u001b[0;34m\u001b[0m\u001b[0;34m\u001b[0m\u001b[0m\n\u001b[0;32m-> 1407\u001b[0;31m         \u001b[0mself\u001b[0m\u001b[0;34m.\u001b[0m\u001b[0m_engine\u001b[0m \u001b[0;34m=\u001b[0m \u001b[0mself\u001b[0m\u001b[0;34m.\u001b[0m\u001b[0m_make_engine\u001b[0m\u001b[0;34m(\u001b[0m\u001b[0mf\u001b[0m\u001b[0;34m,\u001b[0m \u001b[0mself\u001b[0m\u001b[0;34m.\u001b[0m\u001b[0mengine\u001b[0m\u001b[0;34m)\u001b[0m\u001b[0;34m\u001b[0m\u001b[0;34m\u001b[0m\u001b[0m\n\u001b[0m\u001b[1;32m   1408\u001b[0m \u001b[0;34m\u001b[0m\u001b[0m\n\u001b[1;32m   1409\u001b[0m     \u001b[0;32mdef\u001b[0m \u001b[0mclose\u001b[0m\u001b[0;34m(\u001b[0m\u001b[0mself\u001b[0m\u001b[0;34m)\u001b[0m \u001b[0;34m->\u001b[0m \u001b[0;32mNone\u001b[0m\u001b[0;34m:\u001b[0m\u001b[0;34m\u001b[0m\u001b[0;34m\u001b[0m\u001b[0m\n",
            "\u001b[0;32m/usr/local/lib/python3.10/dist-packages/pandas/io/parsers/readers.py\u001b[0m in \u001b[0;36m_make_engine\u001b[0;34m(self, f, engine)\u001b[0m\n\u001b[1;32m   1659\u001b[0m                 \u001b[0;32mif\u001b[0m \u001b[0;34m\"b\"\u001b[0m \u001b[0;32mnot\u001b[0m \u001b[0;32min\u001b[0m \u001b[0mmode\u001b[0m\u001b[0;34m:\u001b[0m\u001b[0;34m\u001b[0m\u001b[0;34m\u001b[0m\u001b[0m\n\u001b[1;32m   1660\u001b[0m                     \u001b[0mmode\u001b[0m \u001b[0;34m+=\u001b[0m \u001b[0;34m\"b\"\u001b[0m\u001b[0;34m\u001b[0m\u001b[0;34m\u001b[0m\u001b[0m\n\u001b[0;32m-> 1661\u001b[0;31m             self.handles = get_handle(\n\u001b[0m\u001b[1;32m   1662\u001b[0m                 \u001b[0mf\u001b[0m\u001b[0;34m,\u001b[0m\u001b[0;34m\u001b[0m\u001b[0;34m\u001b[0m\u001b[0m\n\u001b[1;32m   1663\u001b[0m                 \u001b[0mmode\u001b[0m\u001b[0;34m,\u001b[0m\u001b[0;34m\u001b[0m\u001b[0;34m\u001b[0m\u001b[0m\n",
            "\u001b[0;32m/usr/local/lib/python3.10/dist-packages/pandas/io/common.py\u001b[0m in \u001b[0;36mget_handle\u001b[0;34m(path_or_buf, mode, encoding, compression, memory_map, is_text, errors, storage_options)\u001b[0m\n\u001b[1;32m    857\u001b[0m         \u001b[0;32mif\u001b[0m \u001b[0mioargs\u001b[0m\u001b[0;34m.\u001b[0m\u001b[0mencoding\u001b[0m \u001b[0;32mand\u001b[0m \u001b[0;34m\"b\"\u001b[0m \u001b[0;32mnot\u001b[0m \u001b[0;32min\u001b[0m \u001b[0mioargs\u001b[0m\u001b[0;34m.\u001b[0m\u001b[0mmode\u001b[0m\u001b[0;34m:\u001b[0m\u001b[0;34m\u001b[0m\u001b[0;34m\u001b[0m\u001b[0m\n\u001b[1;32m    858\u001b[0m             \u001b[0;31m# Encoding\u001b[0m\u001b[0;34m\u001b[0m\u001b[0;34m\u001b[0m\u001b[0m\n\u001b[0;32m--> 859\u001b[0;31m             handle = open(\n\u001b[0m\u001b[1;32m    860\u001b[0m                 \u001b[0mhandle\u001b[0m\u001b[0;34m,\u001b[0m\u001b[0;34m\u001b[0m\u001b[0;34m\u001b[0m\u001b[0m\n\u001b[1;32m    861\u001b[0m                 \u001b[0mioargs\u001b[0m\u001b[0;34m.\u001b[0m\u001b[0mmode\u001b[0m\u001b[0;34m,\u001b[0m\u001b[0;34m\u001b[0m\u001b[0;34m\u001b[0m\u001b[0m\n",
            "\u001b[0;31mFileNotFoundError\u001b[0m: [Errno 2] No such file or directory: 'passagier_df.csv'"
          ]
        }
      ]
    },
    {
      "cell_type": "code",
      "source": [
        "passagier_df"
      ],
      "metadata": {
        "id": "vzzeUIICDkIN",
        "colab": {
          "base_uri": "https://localhost:8080/",
          "height": 157
        },
        "outputId": "bf4f2cbb-27d2-4c4c-d381-f0689d746447"
      },
      "execution_count": null,
      "outputs": [
        {
          "output_type": "error",
          "ename": "NameError",
          "evalue": "name 'passagier_df' is not defined",
          "traceback": [
            "\u001b[0;31m---------------------------------------------------------------------------\u001b[0m",
            "\u001b[0;31mNameError\u001b[0m                                 Traceback (most recent call last)",
            "\u001b[0;32m<ipython-input-7-6e3a08160cbf>\u001b[0m in \u001b[0;36m<cell line: 1>\u001b[0;34m()\u001b[0m\n\u001b[0;32m----> 1\u001b[0;31m \u001b[0mpassagier_df\u001b[0m\u001b[0;34m\u001b[0m\u001b[0;34m\u001b[0m\u001b[0m\n\u001b[0m",
            "\u001b[0;31mNameError\u001b[0m: name 'passagier_df' is not defined"
          ]
        }
      ]
    },
    {
      "cell_type": "markdown",
      "source": [
        "### Pandas documentation\n",
        "\n",
        "* [Anfang](https://pandas.pydata.org/docs/reference/api/pandas.DataFrame.head.html)/[Ende](https://pandas.pydata.org/docs/reference/api/pandas.DataFrame.tail.html) anzeigen\n",
        "\n",
        "* [Indexing and selecting data](https://pandas.pydata.org/docs/user_guide/indexing.html)\n",
        "    + [Attribute access](https://pandas.pydata.org/docs/user_guide/indexing.html#attribute-access)\n",
        "    + [Filtering](https://pandas.pydata.org/docs/user_guide/indexing.html#boolean-indexing)\n",
        "\n",
        "* Statistik\n",
        "    * [Value counts](https://pandas.pydata.org/docs/reference/api/pandas.Series.value_counts.html)\n",
        "    * [Describe](https://pandas.pydata.org/docs/reference/api/pandas.DataFrame.describe.html)"
      ],
      "metadata": {
        "id": "4oWiTif__B1w"
      }
    },
    {
      "cell_type": "markdown",
      "source": [
        "## Statistiken"
      ],
      "metadata": {
        "id": "GU6aslcEmtCw"
      }
    },
    {
      "cell_type": "markdown",
      "source": [
        "### Frage `S1`\n",
        "> Beschreibe die Altersverteilung der Passagiere mithilfe von Statistiken! Wie alt ist die jüngste Person? Wie alt die älteste? Wie alt sind die Passagiere im Durchschnitt?"
      ],
      "metadata": {
        "id": "zeJgHl-4l0Ru"
      }
    },
    {
      "cell_type": "code",
      "source": [],
      "metadata": {
        "id": "pTEK5S41FvkI"
      },
      "execution_count": null,
      "outputs": []
    },
    {
      "cell_type": "markdown",
      "source": [
        "### Frage `S2`\n",
        "> Untersuche welche Arten von Reisetypen es gibt! Wie viele Passagiere gibt es je Reisetyp?"
      ],
      "metadata": {
        "id": "jSxkDhGwmT3y"
      }
    },
    {
      "cell_type": "code",
      "source": [],
      "metadata": {
        "id": "5f_JF7rYmTNJ"
      },
      "execution_count": null,
      "outputs": []
    },
    {
      "cell_type": "markdown",
      "source": [
        "## Quest"
      ],
      "metadata": {
        "id": "OkYeKl_MGBaW"
      }
    },
    {
      "cell_type": "markdown",
      "source": [
        "### `Q1`\n",
        "Am Kreuzfahrtschiff _Hannelore III_ wurde ein Fahrgast kurz vor dem Hafen Barcelona in seinem Abteil tod aufgefunden. Die Ticketnummer des Passagiers endet auf \"3344\" und laut Zeugenaussagen ist der Passagier in \"Rom (ITA)\" eingestiegen. Finde den Passagier.\n"
      ],
      "metadata": {
        "id": "vZksWPR7GD-8"
      }
    },
    {
      "cell_type": "code",
      "source": [],
      "metadata": {
        "id": "ELdKpILGGDal"
      },
      "execution_count": null,
      "outputs": []
    },
    {
      "cell_type": "markdown",
      "source": [
        "## Q2\n",
        "Um weitere Hinweise bezüglich der Toten zu finden, wird es hilfreich sein, ihre Mitreisenden ausfindig zu machen.\n",
        "\n",
        "* #2.1 Wie viele Fahrgäste mit demselben Reisetyp wie das Opfer gibt es?"
      ],
      "metadata": {
        "id": "8otzlpQDG09B"
      }
    },
    {
      "cell_type": "code",
      "source": [],
      "metadata": {
        "id": "fn7wbtSCGvfO"
      },
      "execution_count": null,
      "outputs": []
    },
    {
      "cell_type": "markdown",
      "source": [
        "* #2.2: Erstelle eine View _Reise_ und suche alle, die am selben Ort eingestiegen sind, zum selben Zielort unterwegs sind wie das Opfer (siehe Aufgabe #1) auch in einer Außenkabine reisen und im selben Sektor reisen sowie denselben Reisetyp gewählt haben. Wie viele sind es?"
      ],
      "metadata": {
        "id": "IQOlygaPHeFI"
      }
    },
    {
      "cell_type": "markdown",
      "source": [
        "* #2.3: Auf dem Tisch des Opfers wurde ein Bekennerschreiben mit den Initialen E.V. gefunden. Wer ist der Mörder?"
      ],
      "metadata": {
        "id": "OWajp-1rJV5H"
      }
    },
    {
      "cell_type": "code",
      "source": [
        "check_name(\"Vorname Nachname\")"
      ],
      "metadata": {
        "id": "SJT1xFFbIo3V"
      },
      "execution_count": null,
      "outputs": []
    }
  ]
}